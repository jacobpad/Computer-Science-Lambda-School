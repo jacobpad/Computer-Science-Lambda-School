{
  "nbformat": 4,
  "nbformat_minor": 0,
  "metadata": {
    "colab": {
      "name": "CS-Notes.ipynb",
      "provenance": [],
      "toc_visible": true,
      "authorship_tag": "ABX9TyNvScN+RJpbkbAZr/rCRk5H",
      "include_colab_link": true
    },
    "kernelspec": {
      "name": "python3",
      "display_name": "Python 3"
    }
  },
  "cells": [
    {
      "cell_type": "markdown",
      "metadata": {
        "id": "view-in-github",
        "colab_type": "text"
      },
      "source": [
        "<a href=\"https://colab.research.google.com/github/jacobpad/Computer-Science-Lambda-School/blob/master/CS_Notes.ipynb\" target=\"_parent\"><img src=\"https://colab.research.google.com/assets/colab-badge.svg\" alt=\"Open In Colab\"/></a>"
      ]
    },
    {
      "cell_type": "markdown",
      "metadata": {
        "id": "ZbkEKcy0LugI",
        "colab_type": "text"
      },
      "source": [
        "# Computer Science @ Lambda School"
      ]
    },
    {
      "cell_type": "markdown",
      "metadata": {
        "id": "btEvqd-mLn--",
        "colab_type": "text"
      },
      "source": [
        "## Sprint 1"
      ]
    },
    {
      "cell_type": "markdown",
      "metadata": {
        "id": "YsyiRQatLUiU",
        "colab_type": "text"
      },
      "source": [
        "[Sprint 1 Sprint Challange](https://github.com/LambdaSchool/Sprint-Challenge--Intro-Python)"
      ]
    },
    {
      "cell_type": "markdown",
      "metadata": {
        "id": "TUt3qHZXrsUt",
        "colab_type": "text"
      },
      "source": [
        "### List Comprehension"
      ]
    },
    {
      "cell_type": "code",
      "metadata": {
        "id": "3_tAt6yoLKaL",
        "colab_type": "code",
        "colab": {
          "base_uri": "https://localhost:8080/",
          "height": 54
        },
        "outputId": "c2c1f915-261a-481b-ee1d-f7bafbe45175"
      },
      "source": [
        "# Create a list\n",
        "list_1 = [\"Alf\", \"Bob\", \"Chris\", \"Dani\", \"Elsa\", \"Freddie\", \"George\", \"Hannah\", \n",
        "          \"Andy\", \"Angela\", \"Annie\", \"Albert\", \"Brandi\", \"Brandon\", \"Cami\"]\n",
        "\n",
        "print(list_1)"
      ],
      "execution_count": 1,
      "outputs": [
        {
          "output_type": "stream",
          "text": [
            "['Alf', 'Bob', 'Chris', 'Dani', 'Elsa', 'Freddie', 'George', 'Hannah', 'Andy', 'Angela', 'Annie', 'Albert', 'Brandi', 'Brandon', 'Cami']\n"
          ],
          "name": "stdout"
        }
      ]
    },
    {
      "cell_type": "code",
      "metadata": {
        "id": "JcNGLnbu-htb",
        "colab_type": "code",
        "colab": {
          "base_uri": "https://localhost:8080/",
          "height": 51
        },
        "outputId": "a115fbb9-27c7-4e95-9e95-028207621ab4"
      },
      "source": [
        "# comp for first character\n",
        "a = [i[0] for i in list_1]\n",
        "print(f\"The first letters in the list.\\n{a}\")"
      ],
      "execution_count": 2,
      "outputs": [
        {
          "output_type": "stream",
          "text": [
            "The first letters in the list.\n",
            "['A', 'B', 'C', 'D', 'E', 'F', 'G', 'H', 'A', 'A', 'A', 'A', 'B', 'B', 'C']\n"
          ],
          "name": "stdout"
        }
      ]
    },
    {
      "cell_type": "code",
      "metadata": {
        "id": "hbIU8_wWth43",
        "colab_type": "code",
        "colab": {
          "base_uri": "https://localhost:8080/",
          "height": 326
        },
        "outputId": "22b217de-04c0-48a1-d9c0-0f910e708fe6"
      },
      "source": [
        "# List comprehension for first character\n",
        "list_a = [i[0] for i in list_1]\n",
        "print(f\"The first letters in the list.\\n{list_a}\")\n",
        "\n",
        "# List comprehension for names that start with 'D' (with filter)\n",
        "list_b = [i for i in list_1 if i[0] == \"D\"]\n",
        "print(f\"\\nNames that start with 'D'\\n{list_b}\")\n",
        "\n",
        "# List comprehension for names that start with 'a'\n",
        "list_c = [i for i in list_1 if i.endswith(\"a\")]\n",
        "print(f\"\\nNames that start with 'a'\\n{list_c}\")\n",
        "\n",
        "# List comprehension for names that end in 'e'\n",
        "list_d = [i for i in list_1 if i.endswith(\"e\")]\n",
        "print(f\"\\nNames that end in 'e'\\n{list_d}\")\n",
        "\n",
        "# List comprehension for names that start with 'B' through 'D'\n",
        "import re\n",
        "re_pattern = '[B-D]'\n",
        "list_e = [i for i in list_1 if re.search(re_pattern, i[0])]\n",
        "print(f\"\\nNames that start with 'B' through 'D'\\n{list_e}\")\n",
        "\n",
        "# List comprehension for names in uppercase\n",
        "list_f = [i.upper() for i in list_1]\n",
        "print(f\"\\nNames in uppercase\\n{list_f}\")\n"
      ],
      "execution_count": 3,
      "outputs": [
        {
          "output_type": "stream",
          "text": [
            "The first letters in the list.\n",
            "['A', 'B', 'C', 'D', 'E', 'F', 'G', 'H', 'A', 'A', 'A', 'A', 'B', 'B', 'C']\n",
            "\n",
            "Names that start with 'D'\n",
            "['Dani']\n",
            "\n",
            "Names that start with 'a'\n",
            "['Elsa', 'Angela']\n",
            "\n",
            "Names that end in 'e'\n",
            "['Freddie', 'George', 'Annie']\n",
            "\n",
            "Names that start with 'B' through 'D'\n",
            "['Bob', 'Chris', 'Dani', 'Brandi', 'Brandon', 'Cami']\n",
            "\n",
            "Names in uppercase\n",
            "['ALF', 'BOB', 'CHRIS', 'DANI', 'ELSA', 'FREDDIE', 'GEORGE', 'HANNAH', 'ANDY', 'ANGELA', 'ANNIE', 'ALBERT', 'BRANDI', 'BRANDON', 'CAMI']\n"
          ],
          "name": "stdout"
        }
      ]
    }
  ]
}