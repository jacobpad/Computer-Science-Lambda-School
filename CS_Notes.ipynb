{
  "nbformat": 4,
  "nbformat_minor": 0,
  "metadata": {
    "colab": {
      "name": "CS-Notes.ipynb",
      "provenance": [],
      "toc_visible": true,
      "authorship_tag": "ABX9TyMd1O7IbRfQ0nj5VD1xBg6d",
      "include_colab_link": true
    },
    "kernelspec": {
      "name": "python3",
      "display_name": "Python 3"
    }
  },
  "cells": [
    {
      "cell_type": "markdown",
      "metadata": {
        "id": "view-in-github",
        "colab_type": "text"
      },
      "source": [
        "<a href=\"https://colab.research.google.com/github/jacobpad/Computer-Science-Lambda-School/blob/master/CS_Notes.ipynb\" target=\"_parent\"><img src=\"https://colab.research.google.com/assets/colab-badge.svg\" alt=\"Open In Colab\"/></a>"
      ]
    },
    {
      "cell_type": "markdown",
      "metadata": {
        "id": "ZbkEKcy0LugI",
        "colab_type": "text"
      },
      "source": [
        "# Computer Science @ Lambda School"
      ]
    },
    {
      "cell_type": "markdown",
      "metadata": {
        "id": "btEvqd-mLn--",
        "colab_type": "text"
      },
      "source": [
        "## Sprint 1"
      ]
    },
    {
      "cell_type": "markdown",
      "metadata": {
        "id": "YsyiRQatLUiU",
        "colab_type": "text"
      },
      "source": [
        "[Sprint 1 Sprint Challange](https://github.com/LambdaSchool/cs-sprint-challenge-intro-python-oop)"
      ]
    },
    {
      "cell_type": "code",
      "metadata": {
        "id": "3_tAt6yoLKaL",
        "colab_type": "code",
        "colab": {}
      },
      "source": [
        ""
      ],
      "execution_count": null,
      "outputs": []
    }
  ]
}