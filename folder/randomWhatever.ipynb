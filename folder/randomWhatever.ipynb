{
  "nbformat": 4,
  "nbformat_minor": 0,
  "metadata": {
    "colab": {
      "name": "randomWhatever.ipynb",
      "provenance": [],
      "collapsed_sections": [],
      "authorship_tag": "ABX9TyMwsCz5W/jKXYbV8HclJ3/G",
      "include_colab_link": true
    },
    "kernelspec": {
      "name": "python3",
      "display_name": "Python 3"
    }
  },
  "cells": [
    {
      "cell_type": "markdown",
      "metadata": {
        "id": "view-in-github",
        "colab_type": "text"
      },
      "source": [
        "<a href=\"https://colab.research.google.com/github/jacobpad/Computer-Science-Lambda-School/blob/master/folder/randomWhatever.ipynb\" target=\"_parent\"><img src=\"https://colab.research.google.com/assets/colab-badge.svg\" alt=\"Open In Colab\"/></a>"
      ]
    },
    {
      "cell_type": "markdown",
      "metadata": {
        "id": "FDLHGf8IKfZx",
        "colab_type": "text"
      },
      "source": [
        "### New Cohorts:"
      ]
    },
    {
      "cell_type": "code",
      "metadata": {
        "id": "ZweGKDf_I9XP",
        "colab_type": "code",
        "colab": {}
      },
      "source": [
        "import pandas as pd"
      ],
      "execution_count": null,
      "outputs": []
    },
    {
      "cell_type": "code",
      "metadata": {
        "id": "hSpyxzjD3f3n",
        "colab_type": "code",
        "colab": {
          "base_uri": "https://localhost:8080/",
          "height": 297
        },
        "outputId": "610b48e8-a97c-4b0d-e720-e73c13f3cec8"
      },
      "source": [
        "url = 'https://gist.githubusercontent.com/morriswong/35f90d593e901bf131a72631a6127e53/raw/322fe8f689fcb57b592698e26b9050014cda8da8/Google%20Colab%20Keyboards%20shortcuts.csv'\n",
        "\n",
        "df = pd.read_csv(url)\n",
        "df"
      ],
      "execution_count": null,
      "outputs": [
        {
          "output_type": "execute_result",
          "data": {
            "text/html": [
              "<div>\n",
              "<style scoped>\n",
              "    .dataframe tbody tr th:only-of-type {\n",
              "        vertical-align: middle;\n",
              "    }\n",
              "\n",
              "    .dataframe tbody tr th {\n",
              "        vertical-align: top;\n",
              "    }\n",
              "\n",
              "    .dataframe thead th {\n",
              "        text-align: right;\n",
              "    }\n",
              "</style>\n",
              "<table border=\"1\" class=\"dataframe\">\n",
              "  <thead>\n",
              "    <tr style=\"text-align: right;\">\n",
              "      <th></th>\n",
              "      <th>Actions</th>\n",
              "      <th>Colab</th>\n",
              "      <th>Jupyter</th>\n",
              "    </tr>\n",
              "  </thead>\n",
              "  <tbody>\n",
              "    <tr>\n",
              "      <th>0</th>\n",
              "      <td>show keyboard shortcuts</td>\n",
              "      <td>Ctrl/Cmd M H</td>\n",
              "      <td>H</td>\n",
              "    </tr>\n",
              "    <tr>\n",
              "      <th>1</th>\n",
              "      <td>Insert code cell above</td>\n",
              "      <td>Ctrl/Cmd M A</td>\n",
              "      <td>A</td>\n",
              "    </tr>\n",
              "    <tr>\n",
              "      <th>2</th>\n",
              "      <td>Insert code cell below</td>\n",
              "      <td>Ctrl/Cmd M B</td>\n",
              "      <td>B</td>\n",
              "    </tr>\n",
              "    <tr>\n",
              "      <th>3</th>\n",
              "      <td>Delete cell/selection</td>\n",
              "      <td>Ctrl/Cmd M D</td>\n",
              "      <td>DD</td>\n",
              "    </tr>\n",
              "    <tr>\n",
              "      <th>4</th>\n",
              "      <td>Interrupt execution</td>\n",
              "      <td>Ctrl/Cmd M I</td>\n",
              "      <td>II</td>\n",
              "    </tr>\n",
              "    <tr>\n",
              "      <th>5</th>\n",
              "      <td>Convert to code cell</td>\n",
              "      <td>Ctrl/Cmd M Y</td>\n",
              "      <td>Y</td>\n",
              "    </tr>\n",
              "    <tr>\n",
              "      <th>6</th>\n",
              "      <td>Convert to text cell</td>\n",
              "      <td>Ctrl/Cmd M M</td>\n",
              "      <td>M</td>\n",
              "    </tr>\n",
              "    <tr>\n",
              "      <th>7</th>\n",
              "      <td>Split at cursor</td>\n",
              "      <td>Ctrl/Cmd M -</td>\n",
              "      <td>Ctrl Shift -</td>\n",
              "    </tr>\n",
              "  </tbody>\n",
              "</table>\n",
              "</div>"
            ],
            "text/plain": [
              "                   Actions          Colab        Jupyter\n",
              "0  show keyboard shortcuts   Ctrl/Cmd M H             H \n",
              "1   Insert code cell above   Ctrl/Cmd M A              A\n",
              "2   Insert code cell below   Ctrl/Cmd M B              B\n",
              "3    Delete cell/selection   Ctrl/Cmd M D             DD\n",
              "4      Interrupt execution   Ctrl/Cmd M I             II\n",
              "5     Convert to code cell   Ctrl/Cmd M Y              Y\n",
              "6     Convert to text cell   Ctrl/Cmd M M              M\n",
              "7          Split at cursor   Ctrl/Cmd M -   Ctrl Shift -"
            ]
          },
          "metadata": {
            "tags": []
          },
          "execution_count": 19
        }
      ]
    },
    {
      "cell_type": "markdown",
      "metadata": {
        "id": "X_wHMhrIKnVO",
        "colab_type": "text"
      },
      "source": [
        "### Random"
      ]
    },
    {
      "cell_type": "code",
      "metadata": {
        "id": "omIDMg-Hz5TB",
        "colab_type": "code",
        "colab": {
          "base_uri": "https://localhost:8080/",
          "height": 407
        },
        "outputId": "caba4060-4bc6-483a-ac14-f7cf1948a29c"
      },
      "source": [
        "import pandas as pd\n",
        "\n",
        "url = 'https://archive.ics.uci.edu/ml/machine-learning-databases/00502/online_retail_II.xlsx'\n",
        "df = pd.read_excel(url)\n",
        "df"
      ],
      "execution_count": null,
      "outputs": [
        {
          "output_type": "execute_result",
          "data": {
            "text/html": [
              "<div>\n",
              "<style scoped>\n",
              "    .dataframe tbody tr th:only-of-type {\n",
              "        vertical-align: middle;\n",
              "    }\n",
              "\n",
              "    .dataframe tbody tr th {\n",
              "        vertical-align: top;\n",
              "    }\n",
              "\n",
              "    .dataframe thead th {\n",
              "        text-align: right;\n",
              "    }\n",
              "</style>\n",
              "<table border=\"1\" class=\"dataframe\">\n",
              "  <thead>\n",
              "    <tr style=\"text-align: right;\">\n",
              "      <th></th>\n",
              "      <th>Invoice</th>\n",
              "      <th>StockCode</th>\n",
              "      <th>Description</th>\n",
              "      <th>Quantity</th>\n",
              "      <th>InvoiceDate</th>\n",
              "      <th>Price</th>\n",
              "      <th>Customer ID</th>\n",
              "      <th>Country</th>\n",
              "    </tr>\n",
              "  </thead>\n",
              "  <tbody>\n",
              "    <tr>\n",
              "      <th>0</th>\n",
              "      <td>489434</td>\n",
              "      <td>85048</td>\n",
              "      <td>15CM CHRISTMAS GLASS BALL 20 LIGHTS</td>\n",
              "      <td>12</td>\n",
              "      <td>2009-12-01 07:45:00</td>\n",
              "      <td>6.95</td>\n",
              "      <td>13085.0</td>\n",
              "      <td>United Kingdom</td>\n",
              "    </tr>\n",
              "    <tr>\n",
              "      <th>1</th>\n",
              "      <td>489434</td>\n",
              "      <td>79323P</td>\n",
              "      <td>PINK CHERRY LIGHTS</td>\n",
              "      <td>12</td>\n",
              "      <td>2009-12-01 07:45:00</td>\n",
              "      <td>6.75</td>\n",
              "      <td>13085.0</td>\n",
              "      <td>United Kingdom</td>\n",
              "    </tr>\n",
              "    <tr>\n",
              "      <th>2</th>\n",
              "      <td>489434</td>\n",
              "      <td>79323W</td>\n",
              "      <td>WHITE CHERRY LIGHTS</td>\n",
              "      <td>12</td>\n",
              "      <td>2009-12-01 07:45:00</td>\n",
              "      <td>6.75</td>\n",
              "      <td>13085.0</td>\n",
              "      <td>United Kingdom</td>\n",
              "    </tr>\n",
              "    <tr>\n",
              "      <th>3</th>\n",
              "      <td>489434</td>\n",
              "      <td>22041</td>\n",
              "      <td>RECORD FRAME 7\" SINGLE SIZE</td>\n",
              "      <td>48</td>\n",
              "      <td>2009-12-01 07:45:00</td>\n",
              "      <td>2.10</td>\n",
              "      <td>13085.0</td>\n",
              "      <td>United Kingdom</td>\n",
              "    </tr>\n",
              "    <tr>\n",
              "      <th>4</th>\n",
              "      <td>489434</td>\n",
              "      <td>21232</td>\n",
              "      <td>STRAWBERRY CERAMIC TRINKET BOX</td>\n",
              "      <td>24</td>\n",
              "      <td>2009-12-01 07:45:00</td>\n",
              "      <td>1.25</td>\n",
              "      <td>13085.0</td>\n",
              "      <td>United Kingdom</td>\n",
              "    </tr>\n",
              "    <tr>\n",
              "      <th>...</th>\n",
              "      <td>...</td>\n",
              "      <td>...</td>\n",
              "      <td>...</td>\n",
              "      <td>...</td>\n",
              "      <td>...</td>\n",
              "      <td>...</td>\n",
              "      <td>...</td>\n",
              "      <td>...</td>\n",
              "    </tr>\n",
              "    <tr>\n",
              "      <th>525456</th>\n",
              "      <td>538171</td>\n",
              "      <td>22271</td>\n",
              "      <td>FELTCRAFT DOLL ROSIE</td>\n",
              "      <td>2</td>\n",
              "      <td>2010-12-09 20:01:00</td>\n",
              "      <td>2.95</td>\n",
              "      <td>17530.0</td>\n",
              "      <td>United Kingdom</td>\n",
              "    </tr>\n",
              "    <tr>\n",
              "      <th>525457</th>\n",
              "      <td>538171</td>\n",
              "      <td>22750</td>\n",
              "      <td>FELTCRAFT PRINCESS LOLA DOLL</td>\n",
              "      <td>1</td>\n",
              "      <td>2010-12-09 20:01:00</td>\n",
              "      <td>3.75</td>\n",
              "      <td>17530.0</td>\n",
              "      <td>United Kingdom</td>\n",
              "    </tr>\n",
              "    <tr>\n",
              "      <th>525458</th>\n",
              "      <td>538171</td>\n",
              "      <td>22751</td>\n",
              "      <td>FELTCRAFT PRINCESS OLIVIA DOLL</td>\n",
              "      <td>1</td>\n",
              "      <td>2010-12-09 20:01:00</td>\n",
              "      <td>3.75</td>\n",
              "      <td>17530.0</td>\n",
              "      <td>United Kingdom</td>\n",
              "    </tr>\n",
              "    <tr>\n",
              "      <th>525459</th>\n",
              "      <td>538171</td>\n",
              "      <td>20970</td>\n",
              "      <td>PINK FLORAL FELTCRAFT SHOULDER BAG</td>\n",
              "      <td>2</td>\n",
              "      <td>2010-12-09 20:01:00</td>\n",
              "      <td>3.75</td>\n",
              "      <td>17530.0</td>\n",
              "      <td>United Kingdom</td>\n",
              "    </tr>\n",
              "    <tr>\n",
              "      <th>525460</th>\n",
              "      <td>538171</td>\n",
              "      <td>21931</td>\n",
              "      <td>JUMBO STORAGE BAG SUKI</td>\n",
              "      <td>2</td>\n",
              "      <td>2010-12-09 20:01:00</td>\n",
              "      <td>1.95</td>\n",
              "      <td>17530.0</td>\n",
              "      <td>United Kingdom</td>\n",
              "    </tr>\n",
              "  </tbody>\n",
              "</table>\n",
              "<p>525461 rows × 8 columns</p>\n",
              "</div>"
            ],
            "text/plain": [
              "       Invoice StockCode  ... Customer ID         Country\n",
              "0       489434     85048  ...     13085.0  United Kingdom\n",
              "1       489434    79323P  ...     13085.0  United Kingdom\n",
              "2       489434    79323W  ...     13085.0  United Kingdom\n",
              "3       489434     22041  ...     13085.0  United Kingdom\n",
              "4       489434     21232  ...     13085.0  United Kingdom\n",
              "...        ...       ...  ...         ...             ...\n",
              "525456  538171     22271  ...     17530.0  United Kingdom\n",
              "525457  538171     22750  ...     17530.0  United Kingdom\n",
              "525458  538171     22751  ...     17530.0  United Kingdom\n",
              "525459  538171     20970  ...     17530.0  United Kingdom\n",
              "525460  538171     21931  ...     17530.0  United Kingdom\n",
              "\n",
              "[525461 rows x 8 columns]"
            ]
          },
          "metadata": {
            "tags": []
          },
          "execution_count": 1
        }
      ]
    },
    {
      "cell_type": "code",
      "metadata": {
        "id": "orseb8-GzxP2",
        "colab_type": "code",
        "colab": {
          "base_uri": "https://localhost:8080/",
          "height": 143
        },
        "outputId": "a20cae5b-b557-480c-e0da-2f6343f6e43f"
      },
      "source": [
        "import pandas as pd\n",
        "\n",
        "df = pd.read_excel('https://archive.ics.uci.edu/ml/machine-learning-databases/00193/CTG.xls')\n",
        "# df = pd.read_csv('https://archive.ics.uci.edu/ml/machine-learning-databases/mushroom/agaricus-lepiota.data')\n",
        "df.head(2)"
      ],
      "execution_count": null,
      "outputs": [
        {
          "output_type": "execute_result",
          "data": {
            "text/html": [
              "<div>\n",
              "<style scoped>\n",
              "    .dataframe tbody tr th:only-of-type {\n",
              "        vertical-align: middle;\n",
              "    }\n",
              "\n",
              "    .dataframe tbody tr th {\n",
              "        vertical-align: top;\n",
              "    }\n",
              "\n",
              "    .dataframe thead th {\n",
              "        text-align: right;\n",
              "    }\n",
              "</style>\n",
              "<table border=\"1\" class=\"dataframe\">\n",
              "  <thead>\n",
              "    <tr style=\"text-align: right;\">\n",
              "      <th></th>\n",
              "      <th>Unnamed: 0</th>\n",
              "      <th>Unnamed: 1</th>\n",
              "      <th>Cardiotocographic data</th>\n",
              "      <th>Unnamed: 3</th>\n",
              "      <th>Unnamed: 4</th>\n",
              "      <th>Unnamed: 5</th>\n",
              "      <th>Unnamed: 6</th>\n",
              "      <th>Unnamed: 7</th>\n",
              "      <th>Unnamed: 8</th>\n",
              "      <th>Unnamed: 9</th>\n",
              "      <th>Unnamed: 10</th>\n",
              "      <th>Unnamed: 11</th>\n",
              "      <th>Unnamed: 12</th>\n",
              "      <th>Unnamed: 13</th>\n",
              "    </tr>\n",
              "  </thead>\n",
              "  <tbody>\n",
              "    <tr>\n",
              "      <th>0</th>\n",
              "      <td>NaN</td>\n",
              "      <td>NaN</td>\n",
              "      <td>2126 measurements and classifications of foeta...</td>\n",
              "      <td>NaN</td>\n",
              "      <td>NaN</td>\n",
              "      <td>NaN</td>\n",
              "      <td>NaN</td>\n",
              "      <td>NaN</td>\n",
              "      <td>NaN</td>\n",
              "      <td>NaN</td>\n",
              "      <td>NaN</td>\n",
              "      <td>NaN</td>\n",
              "      <td>NaN</td>\n",
              "      <td>NaN</td>\n",
              "    </tr>\n",
              "    <tr>\n",
              "      <th>1</th>\n",
              "      <td>NaN</td>\n",
              "      <td>NaN</td>\n",
              "      <td>NaN</td>\n",
              "      <td>NaN</td>\n",
              "      <td>NaN</td>\n",
              "      <td>NaN</td>\n",
              "      <td>NaN</td>\n",
              "      <td>NaN</td>\n",
              "      <td>NaN</td>\n",
              "      <td>NaN</td>\n",
              "      <td>NaN</td>\n",
              "      <td>NaN</td>\n",
              "      <td>NaN</td>\n",
              "      <td>NaN</td>\n",
              "    </tr>\n",
              "  </tbody>\n",
              "</table>\n",
              "</div>"
            ],
            "text/plain": [
              "  Unnamed: 0  Unnamed: 1  ... Unnamed: 12 Unnamed: 13\n",
              "0        NaN         NaN  ...         NaN         NaN\n",
              "1        NaN         NaN  ...         NaN         NaN\n",
              "\n",
              "[2 rows x 14 columns]"
            ]
          },
          "metadata": {
            "tags": []
          },
          "execution_count": 8
        }
      ]
    },
    {
      "cell_type": "code",
      "metadata": {
        "id": "TMdfUpus3OxO",
        "colab_type": "code",
        "colab": {
          "base_uri": "https://localhost:8080/",
          "height": 743
        },
        "outputId": "ff232943-fa73-4f39-ce2c-c7c5659dc5f7"
      },
      "source": [
        "import numpy as np \n",
        "import matplotlib.pyplot as plt\n",
        "import pandas as pd\n",
        "\n",
        "#Import data\n",
        "df = pd.read_csv('https://query.data.world/s/h63v5sypgtnhkpevtqbdf3v472ppic')\n",
        "\n",
        "# #Print the head of the data \n",
        "print(df.head(),'\\n\\n')\n",
        "\n",
        "# #Create \"pop\" and \"shape\" variables to \n",
        "# #find the mean population and shape of dataset\n",
        "pop = np.mean(df)\n",
        "shape = df.shape\n",
        "print('Table to define mean, median, and mode: \\n',df.describe(),'\\n\\n')\n",
        "print('Mean of whole chart: \\n',pop,'\\n\\n')\n",
        "print('Data Frame Shape: \\n',shape,'\\n\\n')"
      ],
      "execution_count": null,
      "outputs": [
        {
          "output_type": "stream",
          "text": [
            "   id        date  ...  longitude                                 geolocation\n",
            "0   1  01/02/2007  ...  -3.587500   (54.549399999999999, -3.5874999999999999)\n",
            "1   2  01/03/2007  ... -75.426700  (-10.383800000000001, -75.426699999999997)\n",
            "2   3  01/05/2007  ... -42.536362  (-22.282346350000001, -42.536362050000001)\n",
            "3   4  01/05/2007  ... -42.673400  (-22.045200000000001, -42.673400000000001)\n",
            "4   5  01/05/2007  ... -46.613600  (-23.231100000000001, -46.613599999999998)\n",
            "\n",
            "[5 rows x 34 columns] \n",
            "\n",
            "\n",
            "Table to define mean, median, and mode: \n",
            "                 id   fatalities  ...     latitude    longitude\n",
            "count  9564.000000  8212.000000  ...  9564.000000  9564.000000\n",
            "mean   4824.008260     3.537141  ...    25.661806     3.815776\n",
            "std    2799.040122    64.669763  ...    20.416185   100.238678\n",
            "min       1.000000     0.000000  ...   -46.774800  -170.799800\n",
            "25%    2401.750000     0.000000  ...    13.579075  -104.920000\n",
            "50%    4805.500000     0.000000  ...    29.855400    23.184050\n",
            "75%    7253.250000     1.000000  ...    41.134575    94.359700\n",
            "max    9685.000000  5000.000000  ...    72.627500   179.422100\n",
            "\n",
            "[8 rows x 10 columns] \n",
            "\n",
            "\n",
            "Mean of whole chart: \n",
            " id              4.824008e+03\n",
            "fatalities      3.537141e+00\n",
            "injuries        8.523592e-01\n",
            "cat_id          4.806020e+03\n",
            "distance        1.190252e+01\n",
            "population      1.568749e+05\n",
            "version         1.121193e+00\n",
            "changeset_id    8.807481e+08\n",
            "latitude        2.566181e+01\n",
            "longitude       3.815776e+00\n",
            "dtype: float64 \n",
            "\n",
            "\n",
            "Data Frame Shape: \n",
            " (9564, 34) \n",
            "\n",
            "\n"
          ],
          "name": "stdout"
        }
      ]
    },
    {
      "cell_type": "code",
      "metadata": {
        "id": "f1Fs0Ies3TWp",
        "colab_type": "code",
        "colab": {
          "base_uri": "https://localhost:8080/",
          "height": 153
        },
        "outputId": "9469c564-632d-4fbe-891e-1df2091f9cbe"
      },
      "source": [
        "import numpy as np \n",
        "import matplotlib.pyplot as plt\n",
        "import pandas as pd\n",
        "\n",
        "#Import data\n",
        "df = pd.read_csv(\"https://query.data.world/s/h63v5sypgtnhkpevtqbdf3v472ppic\")\n",
        "\n",
        "#Print the head of the data \n",
        "print(df.head())\n",
        "\n",
        "#Create \"pop\" and \"shape\" variables to \n",
        "#find the mean population and shape of dataset\n",
        "pop = df[\"population\"].mean()\n",
        "shape = df.shape"
      ],
      "execution_count": null,
      "outputs": [
        {
          "output_type": "stream",
          "text": [
            "   id        date  ...  longitude                                 geolocation\n",
            "0   1  01/02/2007  ...  -3.587500   (54.549399999999999, -3.5874999999999999)\n",
            "1   2  01/03/2007  ... -75.426700  (-10.383800000000001, -75.426699999999997)\n",
            "2   3  01/05/2007  ... -42.536362  (-22.282346350000001, -42.536362050000001)\n",
            "3   4  01/05/2007  ... -42.673400  (-22.045200000000001, -42.673400000000001)\n",
            "4   5  01/05/2007  ... -46.613600  (-23.231100000000001, -46.613599999999998)\n",
            "\n",
            "[5 rows x 34 columns]\n"
          ],
          "name": "stdout"
        }
      ]
    },
    {
      "cell_type": "code",
      "metadata": {
        "id": "JDAs27xFPV-l",
        "colab_type": "code",
        "colab": {}
      },
      "source": [
        "s = 'DSPT7_Unit_1_Sprint_1_Data_Wrangling_and_Storytelling'\n"
      ],
      "execution_count": null,
      "outputs": []
    },
    {
      "cell_type": "code",
      "metadata": {
        "id": "z3lUcqD8EryK",
        "colab_type": "code",
        "colab": {
          "base_uri": "https://localhost:8080/",
          "height": 51
        },
        "outputId": "8067b1d6-72ad-4748-f073-e5162c1b0040"
      },
      "source": [
        "import pandas as pd\n",
        "import numpy as np\n",
        "import seaborn as sns"
      ],
      "execution_count": null,
      "outputs": [
        {
          "output_type": "stream",
          "text": [
            "/usr/local/lib/python3.6/dist-packages/statsmodels/tools/_testing.py:19: FutureWarning: pandas.util.testing is deprecated. Use the functions in the public API at pandas.testing instead.\n",
            "  import pandas.util.testing as tm\n"
          ],
          "name": "stderr"
        }
      ]
    },
    {
      "cell_type": "code",
      "metadata": {
        "id": "W2H8qnvoE97C",
        "colab_type": "code",
        "colab": {
          "base_uri": "https://localhost:8080/",
          "height": 419
        },
        "outputId": "b82cddcf-c0bf-441f-b8dd-aae095618372"
      },
      "source": [
        "sns.load_dataset('planets')"
      ],
      "execution_count": null,
      "outputs": [
        {
          "output_type": "execute_result",
          "data": {
            "text/html": [
              "<div>\n",
              "<style scoped>\n",
              "    .dataframe tbody tr th:only-of-type {\n",
              "        vertical-align: middle;\n",
              "    }\n",
              "\n",
              "    .dataframe tbody tr th {\n",
              "        vertical-align: top;\n",
              "    }\n",
              "\n",
              "    .dataframe thead th {\n",
              "        text-align: right;\n",
              "    }\n",
              "</style>\n",
              "<table border=\"1\" class=\"dataframe\">\n",
              "  <thead>\n",
              "    <tr style=\"text-align: right;\">\n",
              "      <th></th>\n",
              "      <th>method</th>\n",
              "      <th>number</th>\n",
              "      <th>orbital_period</th>\n",
              "      <th>mass</th>\n",
              "      <th>distance</th>\n",
              "      <th>year</th>\n",
              "    </tr>\n",
              "  </thead>\n",
              "  <tbody>\n",
              "    <tr>\n",
              "      <th>0</th>\n",
              "      <td>Radial Velocity</td>\n",
              "      <td>1</td>\n",
              "      <td>269.300000</td>\n",
              "      <td>7.10</td>\n",
              "      <td>77.40</td>\n",
              "      <td>2006</td>\n",
              "    </tr>\n",
              "    <tr>\n",
              "      <th>1</th>\n",
              "      <td>Radial Velocity</td>\n",
              "      <td>1</td>\n",
              "      <td>874.774000</td>\n",
              "      <td>2.21</td>\n",
              "      <td>56.95</td>\n",
              "      <td>2008</td>\n",
              "    </tr>\n",
              "    <tr>\n",
              "      <th>2</th>\n",
              "      <td>Radial Velocity</td>\n",
              "      <td>1</td>\n",
              "      <td>763.000000</td>\n",
              "      <td>2.60</td>\n",
              "      <td>19.84</td>\n",
              "      <td>2011</td>\n",
              "    </tr>\n",
              "    <tr>\n",
              "      <th>3</th>\n",
              "      <td>Radial Velocity</td>\n",
              "      <td>1</td>\n",
              "      <td>326.030000</td>\n",
              "      <td>19.40</td>\n",
              "      <td>110.62</td>\n",
              "      <td>2007</td>\n",
              "    </tr>\n",
              "    <tr>\n",
              "      <th>4</th>\n",
              "      <td>Radial Velocity</td>\n",
              "      <td>1</td>\n",
              "      <td>516.220000</td>\n",
              "      <td>10.50</td>\n",
              "      <td>119.47</td>\n",
              "      <td>2009</td>\n",
              "    </tr>\n",
              "    <tr>\n",
              "      <th>...</th>\n",
              "      <td>...</td>\n",
              "      <td>...</td>\n",
              "      <td>...</td>\n",
              "      <td>...</td>\n",
              "      <td>...</td>\n",
              "      <td>...</td>\n",
              "    </tr>\n",
              "    <tr>\n",
              "      <th>1030</th>\n",
              "      <td>Transit</td>\n",
              "      <td>1</td>\n",
              "      <td>3.941507</td>\n",
              "      <td>NaN</td>\n",
              "      <td>172.00</td>\n",
              "      <td>2006</td>\n",
              "    </tr>\n",
              "    <tr>\n",
              "      <th>1031</th>\n",
              "      <td>Transit</td>\n",
              "      <td>1</td>\n",
              "      <td>2.615864</td>\n",
              "      <td>NaN</td>\n",
              "      <td>148.00</td>\n",
              "      <td>2007</td>\n",
              "    </tr>\n",
              "    <tr>\n",
              "      <th>1032</th>\n",
              "      <td>Transit</td>\n",
              "      <td>1</td>\n",
              "      <td>3.191524</td>\n",
              "      <td>NaN</td>\n",
              "      <td>174.00</td>\n",
              "      <td>2007</td>\n",
              "    </tr>\n",
              "    <tr>\n",
              "      <th>1033</th>\n",
              "      <td>Transit</td>\n",
              "      <td>1</td>\n",
              "      <td>4.125083</td>\n",
              "      <td>NaN</td>\n",
              "      <td>293.00</td>\n",
              "      <td>2008</td>\n",
              "    </tr>\n",
              "    <tr>\n",
              "      <th>1034</th>\n",
              "      <td>Transit</td>\n",
              "      <td>1</td>\n",
              "      <td>4.187757</td>\n",
              "      <td>NaN</td>\n",
              "      <td>260.00</td>\n",
              "      <td>2008</td>\n",
              "    </tr>\n",
              "  </tbody>\n",
              "</table>\n",
              "<p>1035 rows × 6 columns</p>\n",
              "</div>"
            ],
            "text/plain": [
              "               method  number  orbital_period   mass  distance  year\n",
              "0     Radial Velocity       1      269.300000   7.10     77.40  2006\n",
              "1     Radial Velocity       1      874.774000   2.21     56.95  2008\n",
              "2     Radial Velocity       1      763.000000   2.60     19.84  2011\n",
              "3     Radial Velocity       1      326.030000  19.40    110.62  2007\n",
              "4     Radial Velocity       1      516.220000  10.50    119.47  2009\n",
              "...               ...     ...             ...    ...       ...   ...\n",
              "1030          Transit       1        3.941507    NaN    172.00  2006\n",
              "1031          Transit       1        2.615864    NaN    148.00  2007\n",
              "1032          Transit       1        3.191524    NaN    174.00  2007\n",
              "1033          Transit       1        4.125083    NaN    293.00  2008\n",
              "1034          Transit       1        4.187757    NaN    260.00  2008\n",
              "\n",
              "[1035 rows x 6 columns]"
            ]
          },
          "metadata": {
            "tags": []
          },
          "execution_count": 5
        }
      ]
    },
    {
      "cell_type": "code",
      "metadata": {
        "id": "Vi8ORPPT37sr",
        "colab_type": "code",
        "colab": {}
      },
      "source": [
        "# Generate new one on one schedule!\n",
        "import numpy as np\n",
        "\n",
        "# Define list of students \n",
        "team = ['Andy',\n",
        "        'Cody',\n",
        "        'Dustin',\n",
        "        'Joanne',\n",
        "        'Sara',\n",
        "        'Terrence',\n",
        "        'Meghan',\n",
        "        'Paul']\n",
        "\n",
        "# and available time slots\n",
        "times = ['6:15',\n",
        "         '6:30',\n",
        "         '6:45',\n",
        "         '7:00',\n",
        "         '7:15',\n",
        "         '7:30',\n",
        "         '7:45',\n",
        "         '8:00']\n",
        "\n",
        "# Make empty dictionary to put names & times\n",
        "meeting_times = dict()\n",
        "\n",
        "# For all seven students\n",
        "for _ in range(7):\n",
        "  # Pick a random student and time\n",
        "    student = np.random.choice(team)\n",
        "    time = np.random.choice(times)\n",
        "\t\n",
        "\t# Create dictionary entry for student / time combination\n",
        "    meeting_times[student] = time\n",
        "\t\n",
        "\t# Remove that student and time from pool (avoid duplicates)\n",
        "    team.remove(student)\n",
        "    times.remove(time)\n",
        "    \n",
        "# Create new dictionary sorted by time\n",
        "meeting_times = sorted(meeting_times.items(), key = lambda x: x[1])\n",
        "\n",
        "# Show adjenda\n",
        "meeting_times"
      ],
      "execution_count": null,
      "outputs": []
    },
    {
      "cell_type": "code",
      "metadata": {
        "id": "BtgHgprE7x2t",
        "colab_type": "code",
        "colab": {
          "base_uri": "https://localhost:8080/",
          "height": 34
        },
        "outputId": "cfbedc48-0065-47aa-d773-0463161592c9"
      },
      "source": [
        "# generate random integer values\n",
        "from random import randint\n",
        "\n",
        "value = randint(0, 10)\n",
        "print(value)"
      ],
      "execution_count": null,
      "outputs": [
        {
          "output_type": "stream",
          "text": [
            "8\n"
          ],
          "name": "stdout"
        }
      ]
    },
    {
      "cell_type": "code",
      "metadata": {
        "id": "AyJ2VuAd8Hjj",
        "colab_type": "code",
        "colab": {
          "base_uri": "https://localhost:8080/",
          "height": 34
        },
        "outputId": "856c2449-a0ed-4e5b-c688-30cadceb0fc2"
      },
      "source": [
        "import re\n",
        "x = '$the rea! m@e i$ @who I ! am!, bo$$'\n",
        "x = re.sub('@*!*\\$*', '',x)\n",
        "x"
      ],
      "execution_count": null,
      "outputs": [
        {
          "output_type": "execute_result",
          "data": {
            "text/plain": [
              "'the rea me i who I  am, bo'"
            ]
          },
          "metadata": {
            "tags": []
          },
          "execution_count": 6
        }
      ]
    },
    {
      "cell_type": "code",
      "metadata": {
        "id": "0X4ZYM5enixb",
        "colab_type": "code",
        "colab": {}
      },
      "source": [
        "# !wget https://s3.amazonaws.com/instacart-datasets/instacart_online_grocery_shopping_2017_05_01.tar.gz\n",
        "\n",
        "# !tar --gunzip --extract --verbose --file=instacart_online_grocery_shopping_2017_05_01.tar.gz\n",
        "\n",
        "# %cd instacart_2017_05_01\n",
        "\n",
        "# !ls -lh *.csv"
      ],
      "execution_count": null,
      "outputs": []
    },
    {
      "cell_type": "code",
      "metadata": {
        "id": "_RF1dd0Qzo4T",
        "colab_type": "code",
        "colab": {}
      },
      "source": [
        "for i in range(len(rep)):\n",
        "  print(ttest_ind(elephant[i], donkey[i], nan_policy='for_loops_are_fun'))\n",
        "  print('I wanted to be an astronaut when I was 2.')\n",
        "  print('\\t\\nNew Line\\n')"
      ],
      "execution_count": null,
      "outputs": []
    },
    {
      "cell_type": "code",
      "metadata": {
        "id": "PvwtU_bMzpJ_",
        "colab_type": "code",
        "colab": {
          "base_uri": "https://localhost:8080/",
          "height": 419
        },
        "outputId": "783fcfc2-d0bb-4505-c394-e7802eae9b66"
      },
      "source": [
        "import pandas as pd\n",
        "\n",
        "\n",
        "url = 'https://raw.githubusercontent.com/jacobpad/Labs-Stuff/master/elonmusk_followers.json'\n",
        "df = pd.read_json(url, orient='index')\n",
        "df"
      ],
      "execution_count": null,
      "outputs": [
        {
          "output_type": "execute_result",
          "data": {
            "text/html": [
              "<div>\n",
              "<style scoped>\n",
              "    .dataframe tbody tr th:only-of-type {\n",
              "        vertical-align: middle;\n",
              "    }\n",
              "\n",
              "    .dataframe tbody tr th {\n",
              "        vertical-align: top;\n",
              "    }\n",
              "\n",
              "    .dataframe thead th {\n",
              "        text-align: right;\n",
              "    }\n",
              "</style>\n",
              "<table border=\"1\" class=\"dataframe\">\n",
              "  <thead>\n",
              "    <tr style=\"text-align: right;\">\n",
              "      <th></th>\n",
              "      <th>0</th>\n",
              "    </tr>\n",
              "  </thead>\n",
              "  <tbody>\n",
              "    <tr>\n",
              "      <th>2009-12-02 20:21:58.720581632</th>\n",
              "      <td>#POCOF2Pro debuts in just 24 hours, RT now and...</td>\n",
              "    </tr>\n",
              "    <tr>\n",
              "      <th>2009-11-29 10:35:18.161358848</th>\n",
              "      <td>@jairbolsonaro Imagina o desgosto dela 😭</td>\n",
              "    </tr>\n",
              "    <tr>\n",
              "      <th>2009-11-26 13:35:43.772033030</th>\n",
              "      <td>É inacreditável que um presidente da República...</td>\n",
              "    </tr>\n",
              "    <tr>\n",
              "      <th>2009-11-25 21:55:37.505153024</th>\n",
              "      <td>@CarlaZambelli38 Mente, desmente, e mente de n...</td>\n",
              "    </tr>\n",
              "    <tr>\n",
              "      <th>2009-11-22 21:56:13.574885376</th>\n",
              "      <td>Pq Bolsonaro não apresenta o exame do coronaví...</td>\n",
              "    </tr>\n",
              "    <tr>\n",
              "      <th>...</th>\n",
              "      <td>...</td>\n",
              "    </tr>\n",
              "    <tr>\n",
              "      <th>2009-11-13 10:53:42.147219457</th>\n",
              "      <td>Знайте, суки!... https://t.co/hn8T7vvZEw</td>\n",
              "    </tr>\n",
              "    <tr>\n",
              "      <th>2009-11-11 18:18:48.847269891</th>\n",
              "      <td>@Kasinbatya @krivorozhanin__ хуйня порохоскотс...</td>\n",
              "    </tr>\n",
              "    <tr>\n",
              "      <th>2009-11-11 12:24:25.416298497</th>\n",
              "      <td>@krivorozhanin__ https://t.co/6KiTXfYbeq</td>\n",
              "    </tr>\n",
              "    <tr>\n",
              "      <th>2009-11-11 12:21:53.611726849</th>\n",
              "      <td>@krivorozhanin__ https://t.co/Z5yRf8A5Il</td>\n",
              "    </tr>\n",
              "    <tr>\n",
              "      <th>2009-11-12 12:26:34.784481280</th>\n",
              "      <td>Новина про призначення Юрія Бойко з ОПЗЖ заc.м...</td>\n",
              "    </tr>\n",
              "  </tbody>\n",
              "</table>\n",
              "<p>20499 rows × 1 columns</p>\n",
              "</div>"
            ],
            "text/plain": [
              "                                                                               0\n",
              "2009-12-02 20:21:58.720581632  #POCOF2Pro debuts in just 24 hours, RT now and...\n",
              "2009-11-29 10:35:18.161358848           @jairbolsonaro Imagina o desgosto dela 😭\n",
              "2009-11-26 13:35:43.772033030  É inacreditável que um presidente da República...\n",
              "2009-11-25 21:55:37.505153024  @CarlaZambelli38 Mente, desmente, e mente de n...\n",
              "2009-11-22 21:56:13.574885376  Pq Bolsonaro não apresenta o exame do coronaví...\n",
              "...                                                                          ...\n",
              "2009-11-13 10:53:42.147219457           Знайте, суки!... https://t.co/hn8T7vvZEw\n",
              "2009-11-11 18:18:48.847269891  @Kasinbatya @krivorozhanin__ хуйня порохоскотс...\n",
              "2009-11-11 12:24:25.416298497           @krivorozhanin__ https://t.co/6KiTXfYbeq\n",
              "2009-11-11 12:21:53.611726849           @krivorozhanin__ https://t.co/Z5yRf8A5Il\n",
              "2009-11-12 12:26:34.784481280  Новина про призначення Юрія Бойко з ОПЗЖ заc.м...\n",
              "\n",
              "[20499 rows x 1 columns]"
            ]
          },
          "metadata": {
            "tags": []
          },
          "execution_count": 23
        }
      ]
    },
    {
      "cell_type": "markdown",
      "metadata": {
        "id": "gwA5TZQJ99tl",
        "colab_type": "text"
      },
      "source": [
        "![AB_Testing](https://raw.githubusercontent.com/jmmiddour/Images/master/image%20(1).png)"
      ]
    },
    {
      "cell_type": "code",
      "metadata": {
        "id": "x0VmBGtB3VEg",
        "colab_type": "code",
        "colab": {
          "base_uri": "https://localhost:8080/",
          "height": 204
        },
        "outputId": "0515941e-0ed7-48a2-d007-ac7a1d0e0a40"
      },
      "source": [
        "import pandas as pd\n",
        "\n",
        "\n",
        "cols = ['fixed acidity','volatile acidity','citric acid','residual sugar',\n",
        "         'chlorides','free sulfur dioxide','total sulfur dioxide','density',\n",
        "         'pH','sulphates','alcohol','quality']\n",
        "\n",
        "url = 'https://archive.ics.uci.edu/ml/machine-learning-databases/wine-quality/winequality-white.csv'\n",
        "df = pd.read_csv(url, sep=';', header=None, names=cols, skiprows=1)\n",
        "df.head()\n",
        "\n",
        "# Add \"_\"'s to the column names where spaces are:\n",
        "def replace_spaces_with_underscore_in_column_names(df):\n",
        "  \"\"\"\n",
        "  Accepts a dataframe.\n",
        "  Alters column names replacing spaces with underscores.\n",
        "  \"\"\"\n",
        "  labels = list(df.columns)\n",
        "  for i in range(len(df.columns)):\n",
        "    labels[i] = labels[i].replace(' ', '_')\n",
        "  df.columns = labels\n",
        "\n",
        "  return df\n",
        "\n",
        "df = replace_spaces_with_underscore_in_column_names(df)\n",
        "\n",
        "# Drop the first row - it's column names - or just use `skiprows` while reading\n",
        "# df = df.drop([0]).reset_index()\n",
        "\n",
        "df.head()"
      ],
      "execution_count": null,
      "outputs": [
        {
          "output_type": "execute_result",
          "data": {
            "text/html": [
              "<div>\n",
              "<style scoped>\n",
              "    .dataframe tbody tr th:only-of-type {\n",
              "        vertical-align: middle;\n",
              "    }\n",
              "\n",
              "    .dataframe tbody tr th {\n",
              "        vertical-align: top;\n",
              "    }\n",
              "\n",
              "    .dataframe thead th {\n",
              "        text-align: right;\n",
              "    }\n",
              "</style>\n",
              "<table border=\"1\" class=\"dataframe\">\n",
              "  <thead>\n",
              "    <tr style=\"text-align: right;\">\n",
              "      <th></th>\n",
              "      <th>fixed_acidity</th>\n",
              "      <th>volatile_acidity</th>\n",
              "      <th>citric_acid</th>\n",
              "      <th>residual_sugar</th>\n",
              "      <th>chlorides</th>\n",
              "      <th>free_sulfur_dioxide</th>\n",
              "      <th>total_sulfur_dioxide</th>\n",
              "      <th>density</th>\n",
              "      <th>pH</th>\n",
              "      <th>sulphates</th>\n",
              "      <th>alcohol</th>\n",
              "      <th>quality</th>\n",
              "    </tr>\n",
              "  </thead>\n",
              "  <tbody>\n",
              "    <tr>\n",
              "      <th>0</th>\n",
              "      <td>7.0</td>\n",
              "      <td>0.27</td>\n",
              "      <td>0.36</td>\n",
              "      <td>20.7</td>\n",
              "      <td>0.045</td>\n",
              "      <td>45.0</td>\n",
              "      <td>170.0</td>\n",
              "      <td>1.0010</td>\n",
              "      <td>3.00</td>\n",
              "      <td>0.45</td>\n",
              "      <td>8.8</td>\n",
              "      <td>6</td>\n",
              "    </tr>\n",
              "    <tr>\n",
              "      <th>1</th>\n",
              "      <td>6.3</td>\n",
              "      <td>0.30</td>\n",
              "      <td>0.34</td>\n",
              "      <td>1.6</td>\n",
              "      <td>0.049</td>\n",
              "      <td>14.0</td>\n",
              "      <td>132.0</td>\n",
              "      <td>0.9940</td>\n",
              "      <td>3.30</td>\n",
              "      <td>0.49</td>\n",
              "      <td>9.5</td>\n",
              "      <td>6</td>\n",
              "    </tr>\n",
              "    <tr>\n",
              "      <th>2</th>\n",
              "      <td>8.1</td>\n",
              "      <td>0.28</td>\n",
              "      <td>0.40</td>\n",
              "      <td>6.9</td>\n",
              "      <td>0.050</td>\n",
              "      <td>30.0</td>\n",
              "      <td>97.0</td>\n",
              "      <td>0.9951</td>\n",
              "      <td>3.26</td>\n",
              "      <td>0.44</td>\n",
              "      <td>10.1</td>\n",
              "      <td>6</td>\n",
              "    </tr>\n",
              "    <tr>\n",
              "      <th>3</th>\n",
              "      <td>7.2</td>\n",
              "      <td>0.23</td>\n",
              "      <td>0.32</td>\n",
              "      <td>8.5</td>\n",
              "      <td>0.058</td>\n",
              "      <td>47.0</td>\n",
              "      <td>186.0</td>\n",
              "      <td>0.9956</td>\n",
              "      <td>3.19</td>\n",
              "      <td>0.40</td>\n",
              "      <td>9.9</td>\n",
              "      <td>6</td>\n",
              "    </tr>\n",
              "    <tr>\n",
              "      <th>4</th>\n",
              "      <td>7.2</td>\n",
              "      <td>0.23</td>\n",
              "      <td>0.32</td>\n",
              "      <td>8.5</td>\n",
              "      <td>0.058</td>\n",
              "      <td>47.0</td>\n",
              "      <td>186.0</td>\n",
              "      <td>0.9956</td>\n",
              "      <td>3.19</td>\n",
              "      <td>0.40</td>\n",
              "      <td>9.9</td>\n",
              "      <td>6</td>\n",
              "    </tr>\n",
              "  </tbody>\n",
              "</table>\n",
              "</div>"
            ],
            "text/plain": [
              "   fixed_acidity  volatile_acidity  citric_acid  ...  sulphates  alcohol  quality\n",
              "0            7.0              0.27         0.36  ...       0.45      8.8        6\n",
              "1            6.3              0.30         0.34  ...       0.49      9.5        6\n",
              "2            8.1              0.28         0.40  ...       0.44     10.1        6\n",
              "3            7.2              0.23         0.32  ...       0.40      9.9        6\n",
              "4            7.2              0.23         0.32  ...       0.40      9.9        6\n",
              "\n",
              "[5 rows x 12 columns]"
            ]
          },
          "metadata": {
            "tags": []
          },
          "execution_count": 1
        }
      ]
    },
    {
      "cell_type": "code",
      "metadata": {
        "id": "d7xS5g7oA4-w",
        "colab_type": "code",
        "colab": {
          "base_uri": "https://localhost:8080/",
          "height": 85
        },
        "outputId": "585ae485-cd8f-4e2c-8e38-8af86b61a555"
      },
      "source": [
        "median_alcohol = df['alcohol'].median()\n",
        "for i, alcohol in enumerate(df.alcohol):\n",
        "    if alcohol >= median_alcohol:\n",
        "        df.loc[i, 'alcohol'] = 'high'\n",
        "    else:\n",
        "        df.loc[i, 'alcohol'] = 'low'\n",
        "df.groupby('alcohol').quality.mean()"
      ],
      "execution_count": null,
      "outputs": [
        {
          "output_type": "execute_result",
          "data": {
            "text/plain": [
              "alcohol\n",
              "high    6.208636\n",
              "low     5.539256\n",
              "Name: quality, dtype: float64"
            ]
          },
          "metadata": {
            "tags": []
          },
          "execution_count": 42
        }
      ]
    },
    {
      "cell_type": "code",
      "metadata": {
        "id": "P0-huWZCHomk",
        "colab_type": "code",
        "colab": {
          "base_uri": "https://localhost:8080/",
          "height": 85
        },
        "outputId": "50909b5e-1d04-4d8f-9d12-dfc5e59ab97b"
      },
      "source": [
        "median_pH = df.pH.median()\n",
        "for i, pH in enumerate(df.pH):\n",
        "    if pH >= median_pH:\n",
        "        df.loc[i, 'pH'] = 'high'\n",
        "    else:\n",
        "        df.loc[i, 'pH'] = 'low'\n",
        "df.groupby('pH').quality.mean()"
      ],
      "execution_count": null,
      "outputs": [
        {
          "output_type": "execute_result",
          "data": {
            "text/plain": [
              "pH\n",
              "high    5.960016\n",
              "low     5.793972\n",
              "Name: quality, dtype: float64"
            ]
          },
          "metadata": {
            "tags": []
          },
          "execution_count": 43
        }
      ]
    },
    {
      "cell_type": "code",
      "metadata": {
        "id": "noizpToaHpke",
        "colab_type": "code",
        "colab": {
          "base_uri": "https://localhost:8080/",
          "height": 85
        },
        "outputId": "f0df8aa7-843f-4ce6-df79-b2fd6d82567e"
      },
      "source": [
        "median_sugar = df.residual_sugar.median()\n",
        "for i, sugar in enumerate(df.residual_sugar):\n",
        "    if sugar >= median_sugar:\n",
        "        df.loc[i, 'residual_sugar'] = 'high'\n",
        "    else:\n",
        "        df.loc[i, 'residual_sugar'] = 'low'\n",
        "df.groupby('residual_sugar').quality.mean()"
      ],
      "execution_count": null,
      "outputs": [
        {
          "output_type": "execute_result",
          "data": {
            "text/plain": [
              "residual_sugar\n",
              "high    5.783971\n",
              "low     5.972541\n",
              "Name: quality, dtype: float64"
            ]
          },
          "metadata": {
            "tags": []
          },
          "execution_count": 44
        }
      ]
    },
    {
      "cell_type": "code",
      "metadata": {
        "id": "ubMCfmyKHx7Q",
        "colab_type": "code",
        "colab": {
          "base_uri": "https://localhost:8080/",
          "height": 85
        },
        "outputId": "237b3650-6ef6-4b2a-93fe-5ad5a67ba3dc"
      },
      "source": [
        "median_citric_acid = df.citric_acid.median()\n",
        "for i, citric_acid in enumerate(df.citric_acid):\n",
        "    if citric_acid >= median_citric_acid:\n",
        "        df.loc[i, 'citric_acid'] = 'high'\n",
        "    else:\n",
        "        df.loc[i, 'citric_acid'] = 'low'\n",
        "df.groupby('citric_acid').quality.mean()"
      ],
      "execution_count": null,
      "outputs": [
        {
          "output_type": "execute_result",
          "data": {
            "text/plain": [
              "citric_acid\n",
              "high    5.875203\n",
              "low     5.880658\n",
              "Name: quality, dtype: float64"
            ]
          },
          "metadata": {
            "tags": []
          },
          "execution_count": 45
        }
      ]
    },
    {
      "cell_type": "code",
      "metadata": {
        "id": "ofBoLIQeH2c-",
        "colab_type": "code",
        "colab": {
          "base_uri": "https://localhost:8080/",
          "height": 141
        },
        "outputId": "270e8729-2c8c-44e1-c8e3-abb30f817e23"
      },
      "source": [
        "import matplotlib.pyplot as plt\n",
        "import pandas as pd\n",
        "\n",
        "df = pd.read_csv('Runtime Track Sheet.csv')\n",
        "df"
      ],
      "execution_count": null,
      "outputs": [
        {
          "output_type": "execute_result",
          "data": {
            "text/html": [
              "<div>\n",
              "<style scoped>\n",
              "    .dataframe tbody tr th:only-of-type {\n",
              "        vertical-align: middle;\n",
              "    }\n",
              "\n",
              "    .dataframe tbody tr th {\n",
              "        vertical-align: top;\n",
              "    }\n",
              "\n",
              "    .dataframe thead th {\n",
              "        text-align: right;\n",
              "    }\n",
              "</style>\n",
              "<table border=\"1\" class=\"dataframe\">\n",
              "  <thead>\n",
              "    <tr style=\"text-align: right;\">\n",
              "      <th></th>\n",
              "      <th>Date</th>\n",
              "      <th>Run Time (Seconds)</th>\n",
              "    </tr>\n",
              "  </thead>\n",
              "  <tbody>\n",
              "    <tr>\n",
              "      <th>0</th>\n",
              "      <td>5/18/20</td>\n",
              "      <td>5000.0</td>\n",
              "    </tr>\n",
              "    <tr>\n",
              "      <th>1</th>\n",
              "      <td>5/21/20</td>\n",
              "      <td>1974.0</td>\n",
              "    </tr>\n",
              "    <tr>\n",
              "      <th>2</th>\n",
              "      <td>5/26/20</td>\n",
              "      <td>923.0</td>\n",
              "    </tr>\n",
              "  </tbody>\n",
              "</table>\n",
              "</div>"
            ],
            "text/plain": [
              "     Date   Run Time (Seconds)\n",
              "0  5/18/20              5000.0\n",
              "1  5/21/20              1974.0\n",
              "2  5/26/20               923.0"
            ]
          },
          "metadata": {
            "tags": []
          },
          "execution_count": 6
        }
      ]
    },
    {
      "cell_type": "code",
      "metadata": {
        "id": "MIBGB1YpIZYq",
        "colab_type": "code",
        "colab": {}
      },
      "source": [
        "plt.plot(df[df['Date'], df['Run Time (Seconds)']);"
      ],
      "execution_count": null,
      "outputs": []
    },
    {
      "cell_type": "code",
      "metadata": {
        "id": "dxbhTIyzJqVI",
        "colab_type": "code",
        "colab": {
          "base_uri": "https://localhost:8080/",
          "height": 102
        },
        "outputId": "92c1b278-138b-4676-e4f1-4d0a64ac1dbe"
      },
      "source": [
        "n=5\n",
        "for i in range(n):\n",
        "  print(i**2)"
      ],
      "execution_count": null,
      "outputs": [
        {
          "output_type": "stream",
          "text": [
            "0\n",
            "1\n",
            "4\n",
            "9\n",
            "16\n"
          ],
          "name": "stdout"
        }
      ]
    },
    {
      "cell_type": "code",
      "metadata": {
        "id": "_qigJUZ_FGFa",
        "colab_type": "code",
        "colab": {
          "base_uri": "https://localhost:8080/",
          "height": 102
        },
        "outputId": "11fc2b8a-f415-4e18-8d07-0bb28005d833"
      },
      "source": [
        "print(*[num**2 for num in range(n)], sep='\\n')"
      ],
      "execution_count": null,
      "outputs": [
        {
          "output_type": "stream",
          "text": [
            "0\n",
            "1\n",
            "4\n",
            "9\n",
            "16\n"
          ],
          "name": "stdout"
        }
      ]
    },
    {
      "cell_type": "code",
      "metadata": {
        "id": "aSav8-cQH3Fe",
        "colab_type": "code",
        "colab": {
          "base_uri": "https://localhost:8080/",
          "height": 34
        },
        "outputId": "db66418b-4558-42d4-cee2-6d22f3a443f6"
      },
      "source": [
        "print([num**2 for num in range(n)], sep='\\n')"
      ],
      "execution_count": null,
      "outputs": [
        {
          "output_type": "stream",
          "text": [
            "[0, 1, 4, 9, 16]\n"
          ],
          "name": "stdout"
        }
      ]
    },
    {
      "cell_type": "markdown",
      "metadata": {
        "id": "YUFabvFiKUKS",
        "colab_type": "text"
      },
      "source": [
        "### Leap Year"
      ]
    },
    {
      "cell_type": "markdown",
      "metadata": {
        "id": "x2U0qYTHH-vy",
        "colab_type": "text"
      },
      "source": [
        "An extra day is added to the calendar almost every four years as February 29, and the day is called a leap day. It corrects the calendar for the fact that our planet takes approximately 365.25 days to orbit the sun. A leap year contains a leap day.\n",
        "\n",
        "In the Gregorian calendar, three conditions are used to identify leap years:\n",
        "\n",
        "- The year can be evenly divided by 4, is a leap year, unless:\n",
        "- The year can be evenly divided by 100, it is NOT a leap year, unless:\n",
        "- The year is also evenly divisible by 400. Then it is a leap year.\n",
        "  - This means that in the Gregorian calendar, the years 2000 and 2400 are leap years, while 1800, 1900, 2100, 2200, 2300 and 2500 are NOT leap years. Source"
      ]
    },
    {
      "cell_type": "code",
      "metadata": {
        "id": "e1cIS6PoKP-u",
        "colab_type": "code",
        "colab": {
          "base_uri": "https://localhost:8080/",
          "height": 34
        },
        "outputId": "a9c68c52-10e0-4822-b1aa-acf324ae91d2"
      },
      "source": [
        "def is_leap_year(year):\n",
        "  '''To find leap years'''\n",
        "  if (year % 400 is 0): # evenly divided by 400, is a leap year\n",
        "    return True\n",
        "  if (year % 100 is 0): # evenly divided by 100, it is NOT a leap year unless\n",
        "    return False\n",
        "  if (year % 4 is 0): # evenly divisible by 4. Then it is a leap year\n",
        "    return True\n",
        "  else:\n",
        "    return False\n",
        "\n",
        "print(is_leap_year(2000))"
      ],
      "execution_count": null,
      "outputs": [
        {
          "output_type": "stream",
          "text": [
            "True\n"
          ],
          "name": "stdout"
        }
      ]
    },
    {
      "cell_type": "markdown",
      "metadata": {
        "id": "fZUN9egtUc-u",
        "colab_type": "text"
      },
      "source": [
        "### Without using any string methods, try to print the following:"
      ]
    },
    {
      "cell_type": "code",
      "metadata": {
        "id": "Dlqv63ErUpSs",
        "colab_type": "code",
        "colab": {
          "base_uri": "https://localhost:8080/",
          "height": 85
        },
        "outputId": "2ce427a5-0fda-46c1-cdbd-4705a44f4c7b"
      },
      "source": [
        "# Print the list of integers from  through  as a string, without spaces.\n",
        "import random\n",
        "n = random.randint(1, 150)\n",
        "print(f'{n}\\n\\n')\n",
        "\n",
        "lst = []\n",
        "\n",
        "for i in range(n):\n",
        "  i=i+1\n",
        "  lst.append(i)\n",
        "print(*lst, sep='')"
      ],
      "execution_count": null,
      "outputs": [
        {
          "output_type": "stream",
          "text": [
            "30\n",
            "\n",
            "\n",
            "123456789101112131415161718192021222324252627282930\n"
          ],
          "name": "stdout"
        }
      ]
    },
    {
      "cell_type": "code",
      "metadata": {
        "id": "WrfpiF6-92GL",
        "colab_type": "code",
        "colab": {}
      },
      "source": [
        ""
      ],
      "execution_count": null,
      "outputs": []
    },
    {
      "cell_type": "code",
      "metadata": {
        "id": "h_gZ0jNE92Nc",
        "colab_type": "code",
        "colab": {}
      },
      "source": [
        ""
      ],
      "execution_count": null,
      "outputs": []
    },
    {
      "cell_type": "code",
      "metadata": {
        "id": "6rtnFSIB92Uq",
        "colab_type": "code",
        "colab": {}
      },
      "source": [
        ""
      ],
      "execution_count": null,
      "outputs": []
    },
    {
      "cell_type": "code",
      "metadata": {
        "id": "9roVmnd892fc",
        "colab_type": "code",
        "colab": {}
      },
      "source": [
        ""
      ],
      "execution_count": null,
      "outputs": []
    },
    {
      "cell_type": "code",
      "metadata": {
        "id": "JE-cvz4j92m5",
        "colab_type": "code",
        "colab": {}
      },
      "source": [
        ""
      ],
      "execution_count": null,
      "outputs": []
    },
    {
      "cell_type": "code",
      "metadata": {
        "id": "OsR-5SxO92uU",
        "colab_type": "code",
        "colab": {}
      },
      "source": [
        ""
      ],
      "execution_count": null,
      "outputs": []
    },
    {
      "cell_type": "code",
      "metadata": {
        "id": "9ZbBD-AE93BR",
        "colab_type": "code",
        "colab": {}
      },
      "source": [
        ""
      ],
      "execution_count": null,
      "outputs": []
    },
    {
      "cell_type": "code",
      "metadata": {
        "id": "FNwdXaAL93Ie",
        "colab_type": "code",
        "colab": {}
      },
      "source": [
        ""
      ],
      "execution_count": null,
      "outputs": []
    },
    {
      "cell_type": "code",
      "metadata": {
        "id": "7VH6SK3N93Ug",
        "colab_type": "code",
        "colab": {}
      },
      "source": [
        ""
      ],
      "execution_count": null,
      "outputs": []
    },
    {
      "cell_type": "code",
      "metadata": {
        "id": "RWhWmve_93ck",
        "colab_type": "code",
        "colab": {}
      },
      "source": [
        ""
      ],
      "execution_count": null,
      "outputs": []
    },
    {
      "cell_type": "code",
      "metadata": {
        "id": "NYE_XBq393j7",
        "colab_type": "code",
        "colab": {}
      },
      "source": [
        ""
      ],
      "execution_count": null,
      "outputs": []
    },
    {
      "cell_type": "code",
      "metadata": {
        "id": "1NjFkFNf93sW",
        "colab_type": "code",
        "colab": {}
      },
      "source": [
        ""
      ],
      "execution_count": null,
      "outputs": []
    },
    {
      "cell_type": "code",
      "metadata": {
        "id": "FZnIB3N5930I",
        "colab_type": "code",
        "colab": {}
      },
      "source": [
        ""
      ],
      "execution_count": null,
      "outputs": []
    },
    {
      "cell_type": "code",
      "metadata": {
        "id": "2oLAgAcu938H",
        "colab_type": "code",
        "colab": {}
      },
      "source": [
        ""
      ],
      "execution_count": null,
      "outputs": []
    },
    {
      "cell_type": "code",
      "metadata": {
        "id": "1Wnqb9E594IR",
        "colab_type": "code",
        "colab": {}
      },
      "source": [
        ""
      ],
      "execution_count": null,
      "outputs": []
    },
    {
      "cell_type": "code",
      "metadata": {
        "id": "63mqE9Qj94Rj",
        "colab_type": "code",
        "colab": {}
      },
      "source": [
        ""
      ],
      "execution_count": null,
      "outputs": []
    },
    {
      "cell_type": "code",
      "metadata": {
        "id": "M6Tn15EH94dx",
        "colab_type": "code",
        "colab": {}
      },
      "source": [
        ""
      ],
      "execution_count": null,
      "outputs": []
    },
    {
      "cell_type": "code",
      "metadata": {
        "id": "hPHyINqC94sM",
        "colab_type": "code",
        "colab": {}
      },
      "source": [
        ""
      ],
      "execution_count": null,
      "outputs": []
    },
    {
      "cell_type": "code",
      "metadata": {
        "id": "1fyL3Mr594lr",
        "colab_type": "code",
        "colab": {}
      },
      "source": [
        ""
      ],
      "execution_count": null,
      "outputs": []
    },
    {
      "cell_type": "code",
      "metadata": {
        "id": "46z6igNb94ZT",
        "colab_type": "code",
        "colab": {}
      },
      "source": [
        ""
      ],
      "execution_count": null,
      "outputs": []
    },
    {
      "cell_type": "code",
      "metadata": {
        "id": "kMqcl-SZ94ND",
        "colab_type": "code",
        "colab": {}
      },
      "source": [
        ""
      ],
      "execution_count": null,
      "outputs": []
    },
    {
      "cell_type": "code",
      "metadata": {
        "id": "-UbyCJDa94Dw",
        "colab_type": "code",
        "colab": {}
      },
      "source": [
        ""
      ],
      "execution_count": null,
      "outputs": []
    },
    {
      "cell_type": "code",
      "metadata": {
        "id": "WDHIZBIR934Q",
        "colab_type": "code",
        "colab": {}
      },
      "source": [
        ""
      ],
      "execution_count": null,
      "outputs": []
    },
    {
      "cell_type": "code",
      "metadata": {
        "id": "RS9isGku93wm",
        "colab_type": "code",
        "colab": {}
      },
      "source": [
        ""
      ],
      "execution_count": null,
      "outputs": []
    },
    {
      "cell_type": "code",
      "metadata": {
        "id": "FowDa-jw93oG",
        "colab_type": "code",
        "colab": {}
      },
      "source": [
        ""
      ],
      "execution_count": null,
      "outputs": []
    },
    {
      "cell_type": "code",
      "metadata": {
        "id": "VTnhj5FK93gT",
        "colab_type": "code",
        "colab": {}
      },
      "source": [
        ""
      ],
      "execution_count": null,
      "outputs": []
    },
    {
      "cell_type": "code",
      "metadata": {
        "id": "lPZvKxeP93Yu",
        "colab_type": "code",
        "colab": {}
      },
      "source": [
        ""
      ],
      "execution_count": null,
      "outputs": []
    },
    {
      "cell_type": "code",
      "metadata": {
        "id": "P8vaBGIc93QC",
        "colab_type": "code",
        "colab": {}
      },
      "source": [
        ""
      ],
      "execution_count": null,
      "outputs": []
    },
    {
      "cell_type": "code",
      "metadata": {
        "id": "LS4uzryk93FJ",
        "colab_type": "code",
        "colab": {}
      },
      "source": [
        ""
      ],
      "execution_count": null,
      "outputs": []
    },
    {
      "cell_type": "code",
      "metadata": {
        "id": "Ec8bhr4992yd",
        "colab_type": "code",
        "colab": {}
      },
      "source": [
        ""
      ],
      "execution_count": null,
      "outputs": []
    },
    {
      "cell_type": "code",
      "metadata": {
        "id": "hiDpoPjU92q4",
        "colab_type": "code",
        "colab": {}
      },
      "source": [
        ""
      ],
      "execution_count": null,
      "outputs": []
    },
    {
      "cell_type": "code",
      "metadata": {
        "id": "5oVfwhW092ja",
        "colab_type": "code",
        "colab": {}
      },
      "source": [
        ""
      ],
      "execution_count": null,
      "outputs": []
    },
    {
      "cell_type": "code",
      "metadata": {
        "id": "nMZMpMNx92b7",
        "colab_type": "code",
        "colab": {}
      },
      "source": [
        ""
      ],
      "execution_count": null,
      "outputs": []
    },
    {
      "cell_type": "code",
      "metadata": {
        "id": "rW4_horg92RY",
        "colab_type": "code",
        "colab": {}
      },
      "source": [
        ""
      ],
      "execution_count": null,
      "outputs": []
    },
    {
      "cell_type": "code",
      "metadata": {
        "id": "oX9g2ync92KL",
        "colab_type": "code",
        "colab": {}
      },
      "source": [
        ""
      ],
      "execution_count": null,
      "outputs": []
    },
    {
      "cell_type": "code",
      "metadata": {
        "id": "QTC4qwbdVY-n",
        "colab_type": "code",
        "colab": {}
      },
      "source": [
        "# Print out all of the numbers in the following array that are divisible by 3:\n",
        "# [85, 46, 27, 81, 94, 9, 27, 38, 43, 99, 37, 63, 31, 42, 14]\n",
        "# The expected output for the above input is:\n",
        "# 27\n",
        "# 81\n",
        "# 9\n",
        "# 27\n",
        "# 99\n",
        "# 63\n",
        "# 42\n",
        "# You may use whatever programming language you wish.\n",
        "# Verbalize your thought process as much as possible before writing any code. \n",
        "# Run through the UPER problem solving framework while going through your thought process.\n",
        "\n",
        "\n",
        "my_list = [85, 46, 27, 81, 94, 9, 27, 38, 43, 99, 37, 63, 31, 42, 14]"
      ],
      "execution_count": 1,
      "outputs": []
    },
    {
      "cell_type": "code",
      "metadata": {
        "id": "qbM0UT-UG_J8",
        "colab_type": "code",
        "colab": {
          "base_uri": "https://localhost:8080/",
          "height": 134
        },
        "outputId": "86abc142-c484-4c4b-84b2-dadcca11d2c7"
      },
      "source": [
        "for i in range(len(my_list)):\n",
        "  if my_list[i] % 3 == 0:\n",
        "    print(my_list[i])"
      ],
      "execution_count": 10,
      "outputs": [
        {
          "output_type": "stream",
          "text": [
            "27\n",
            "81\n",
            "9\n",
            "27\n",
            "99\n",
            "63\n",
            "42\n"
          ],
          "name": "stdout"
        }
      ]
    },
    {
      "cell_type": "code",
      "metadata": {
        "id": "VPKPoaYxIbzm",
        "colab_type": "code",
        "colab": {}
      },
      "source": [
        "# Print out all of the strings in the following array that represent a number divisible by 3:\n",
        "# [\n",
        "#   \"five\",\n",
        "#   \"twenty six\",\n",
        "#   \"nine hundred ninety nine\",\n",
        "#   \"twelve\",\n",
        "#   \"eighteen\",\n",
        "#   \"one hundred one\",\n",
        "#   \"fifty two\",\n",
        "#   \"forty one\",\n",
        "#   \"seventy seven\",\n",
        "#   \"six\",\n",
        "#   \"twelve\",\n",
        "#   \"four\",\n",
        "#   \"sixteen\"\n",
        "# ]\n",
        "# The expected output for the above input is:\n",
        "# nine hundred ninety nine\n",
        "# twelve\n",
        "# eighteen\n",
        "# six\n",
        "# twelve"
      ],
      "execution_count": null,
      "outputs": []
    },
    {
      "cell_type": "code",
      "metadata": {
        "id": "NUftYLxhIn6B",
        "colab_type": "code",
        "colab": {}
      },
      "source": [
        ""
      ],
      "execution_count": null,
      "outputs": []
    }
  ]
}